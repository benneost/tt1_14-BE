{
 "cells": [
  {
   "attachments": {},
   "cell_type": "markdown",
   "metadata": {},
   "source": [
    "<span style=\"color:blue\">\n",
    "\n",
    "# A1\n",
    "\n",
    "\n",
    "</span>"
   ]
  },
  {
   "cell_type": "markdown",
   "metadata": {},
   "source": [
    "# Data Cleaning"
   ]
  },
  {
   "cell_type": "code",
   "execution_count": 2,
   "metadata": {},
   "outputs": [],
   "source": [
    "import requests\n",
    "import json\n",
    "import pandas as pd\n",
    "import datetime as dt\n",
    "import time\n",
    "import numpy as np\n",
    "import matplotlib.pyplot as plt\n",
    "from tqdm import tqdm\n",
    "%matplotlib inline\n",
    "\n"
   ]
  },
  {
   "cell_type": "markdown",
   "metadata": {},
   "source": [
    "## Read in the files"
   ]
  },
  {
   "cell_type": "code",
   "execution_count": 4,
   "metadata": {},
   "outputs": [
    {
     "name": "stdout",
     "output_type": "stream",
     "text": [
      "    FirstName  LastName                                            Address  \\\n",
      "0       David   Langdon    Block 475 Bedok North #84-6612 Singapore 475226   \n",
      "1       Bella   Chapman       Block 925 Cactus Dr #76-742 Singapore 925424   \n",
      "2      Connor     Ogden  Block 617 Temasek Boulevard #13-5833 Singapore...   \n",
      "3        Adam  Springer      Block 904 Gul Drive #63-8429 Singapore 904977   \n",
      "4    Kimberly   Wilkins  Block 698 Colombo Court #42-8430 Singapore 698965   \n",
      "..        ...       ...                                                ...   \n",
      "95       Carl    Hudson       Block 490 May Road #64-3411 Singapore 490417   \n",
      "96  Katherine   Burgess   Block 312 Tagore Drive #84-5136 Singapore 312112   \n",
      "97       Jack      Dowd   Block 764 Cecil Street #97-3752 Singapore 764830   \n",
      "98    Carolyn    Mackay    Block 382 Middle Road #42-4807 Singapore 382809   \n",
      "99       Ruth     James  Block 907 Kaki Bukit Place #75-5920 Singapore ...   \n",
      "\n",
      "    MonthlyIncome AmountInStocks AmountInBonds HasRelationshipManager  \n",
      "0            5093           High           Low                    Yes  \n",
      "1            6918           High           Low                    Yes  \n",
      "2            8346            NaN           NaN                    Yes  \n",
      "3            8961           High           Low                     No  \n",
      "4            7294           High           Low                    Yes  \n",
      "..            ...            ...           ...                    ...  \n",
      "95           8079           High           Low                     No  \n",
      "96           7687           High           Low                    Yes  \n",
      "97           2125           High           Low                     No  \n",
      "98           9806           High           Low                    Yes  \n",
      "99           5492           High           Low                    Yes  \n",
      "\n",
      "[100 rows x 7 columns]\n"
     ]
    }
   ],
   "source": [
    "import os\n",
    "import pandas as pd\n",
    "\n",
    "df = pd.read_csv('ClientProfile (Candidate\\'s Copy).csv')\n",
    "# frame = pd.DataFrame()\n",
    "print(df)\n",
    "        "
   ]
  },
  {
   "cell_type": "code",
   "execution_count": 5,
   "metadata": {},
   "outputs": [
    {
     "data": {
      "text/plain": [
       "Index(['FirstName', 'LastName', 'Address', 'MonthlyIncome', 'AmountInStocks',\n",
       "       'AmountInBonds', 'HasRelationshipManager'],\n",
       "      dtype='object')"
      ]
     },
     "execution_count": 5,
     "metadata": {},
     "output_type": "execute_result"
    }
   ],
   "source": [
    "df.columns"
   ]
  },
  {
   "cell_type": "code",
   "execution_count": 6,
   "metadata": {},
   "outputs": [
    {
     "name": "stdout",
     "output_type": "stream",
     "text": [
      "(90, 7)\n"
     ]
    }
   ],
   "source": [
    "df2 = df[df['AmountInStocks'].notna()]\n",
    "df3 = df2[df2['AmountInBonds'].notna()]\n",
    "print(df3.shape)"
   ]
  },
  {
   "cell_type": "code",
   "execution_count": 7,
   "metadata": {},
   "outputs": [
    {
     "data": {
      "text/html": [
       "<div>\n",
       "<style scoped>\n",
       "    .dataframe tbody tr th:only-of-type {\n",
       "        vertical-align: middle;\n",
       "    }\n",
       "\n",
       "    .dataframe tbody tr th {\n",
       "        vertical-align: top;\n",
       "    }\n",
       "\n",
       "    .dataframe thead th {\n",
       "        text-align: right;\n",
       "    }\n",
       "</style>\n",
       "<table border=\"1\" class=\"dataframe\">\n",
       "  <thead>\n",
       "    <tr style=\"text-align: right;\">\n",
       "      <th></th>\n",
       "      <th>FirstName</th>\n",
       "      <th>LastName</th>\n",
       "      <th>Address</th>\n",
       "      <th>MonthlyIncome</th>\n",
       "      <th>AmountInStocks</th>\n",
       "      <th>AmountInBonds</th>\n",
       "      <th>HasRelationshipManager</th>\n",
       "    </tr>\n",
       "  </thead>\n",
       "  <tbody>\n",
       "    <tr>\n",
       "      <th>0</th>\n",
       "      <td>David</td>\n",
       "      <td>Langdon</td>\n",
       "      <td>Block 475 Bedok North #84-6612 Singapore 475226</td>\n",
       "      <td>5093</td>\n",
       "      <td>High</td>\n",
       "      <td>Low</td>\n",
       "      <td>Yes</td>\n",
       "    </tr>\n",
       "    <tr>\n",
       "      <th>1</th>\n",
       "      <td>Bella</td>\n",
       "      <td>Chapman</td>\n",
       "      <td>Block 925 Cactus Dr #76-742 Singapore 925424</td>\n",
       "      <td>6918</td>\n",
       "      <td>High</td>\n",
       "      <td>Low</td>\n",
       "      <td>Yes</td>\n",
       "    </tr>\n",
       "    <tr>\n",
       "      <th>3</th>\n",
       "      <td>Adam</td>\n",
       "      <td>Springer</td>\n",
       "      <td>Block 904 Gul Drive #63-8429 Singapore 904977</td>\n",
       "      <td>8961</td>\n",
       "      <td>High</td>\n",
       "      <td>Low</td>\n",
       "      <td>No</td>\n",
       "    </tr>\n",
       "    <tr>\n",
       "      <th>4</th>\n",
       "      <td>Kimberly</td>\n",
       "      <td>Wilkins</td>\n",
       "      <td>Block 698 Colombo Court #42-8430 Singapore 698965</td>\n",
       "      <td>7294</td>\n",
       "      <td>High</td>\n",
       "      <td>Low</td>\n",
       "      <td>Yes</td>\n",
       "    </tr>\n",
       "    <tr>\n",
       "      <th>5</th>\n",
       "      <td>Adam</td>\n",
       "      <td>Morrison</td>\n",
       "      <td>Block 340 South Bridge Road #99-8314 Singapore...</td>\n",
       "      <td>6967</td>\n",
       "      <td>High</td>\n",
       "      <td>Low</td>\n",
       "      <td>Yes</td>\n",
       "    </tr>\n",
       "    <tr>\n",
       "      <th>...</th>\n",
       "      <td>...</td>\n",
       "      <td>...</td>\n",
       "      <td>...</td>\n",
       "      <td>...</td>\n",
       "      <td>...</td>\n",
       "      <td>...</td>\n",
       "      <td>...</td>\n",
       "    </tr>\n",
       "    <tr>\n",
       "      <th>95</th>\n",
       "      <td>Carl</td>\n",
       "      <td>Hudson</td>\n",
       "      <td>Block 490 May Road #64-3411 Singapore 490417</td>\n",
       "      <td>8079</td>\n",
       "      <td>High</td>\n",
       "      <td>Low</td>\n",
       "      <td>No</td>\n",
       "    </tr>\n",
       "    <tr>\n",
       "      <th>96</th>\n",
       "      <td>Katherine</td>\n",
       "      <td>Burgess</td>\n",
       "      <td>Block 312 Tagore Drive #84-5136 Singapore 312112</td>\n",
       "      <td>7687</td>\n",
       "      <td>High</td>\n",
       "      <td>Low</td>\n",
       "      <td>Yes</td>\n",
       "    </tr>\n",
       "    <tr>\n",
       "      <th>97</th>\n",
       "      <td>Jack</td>\n",
       "      <td>Dowd</td>\n",
       "      <td>Block 764 Cecil Street #97-3752 Singapore 764830</td>\n",
       "      <td>2125</td>\n",
       "      <td>High</td>\n",
       "      <td>Low</td>\n",
       "      <td>No</td>\n",
       "    </tr>\n",
       "    <tr>\n",
       "      <th>98</th>\n",
       "      <td>Carolyn</td>\n",
       "      <td>Mackay</td>\n",
       "      <td>Block 382 Middle Road #42-4807 Singapore 382809</td>\n",
       "      <td>9806</td>\n",
       "      <td>High</td>\n",
       "      <td>Low</td>\n",
       "      <td>Yes</td>\n",
       "    </tr>\n",
       "    <tr>\n",
       "      <th>99</th>\n",
       "      <td>Ruth</td>\n",
       "      <td>James</td>\n",
       "      <td>Block 907 Kaki Bukit Place #75-5920 Singapore ...</td>\n",
       "      <td>5492</td>\n",
       "      <td>High</td>\n",
       "      <td>Low</td>\n",
       "      <td>Yes</td>\n",
       "    </tr>\n",
       "  </tbody>\n",
       "</table>\n",
       "<p>90 rows × 7 columns</p>\n",
       "</div>"
      ],
      "text/plain": [
       "    FirstName  LastName                                            Address  \\\n",
       "0       David   Langdon    Block 475 Bedok North #84-6612 Singapore 475226   \n",
       "1       Bella   Chapman       Block 925 Cactus Dr #76-742 Singapore 925424   \n",
       "3        Adam  Springer      Block 904 Gul Drive #63-8429 Singapore 904977   \n",
       "4    Kimberly   Wilkins  Block 698 Colombo Court #42-8430 Singapore 698965   \n",
       "5        Adam  Morrison  Block 340 South Bridge Road #99-8314 Singapore...   \n",
       "..        ...       ...                                                ...   \n",
       "95       Carl    Hudson       Block 490 May Road #64-3411 Singapore 490417   \n",
       "96  Katherine   Burgess   Block 312 Tagore Drive #84-5136 Singapore 312112   \n",
       "97       Jack      Dowd   Block 764 Cecil Street #97-3752 Singapore 764830   \n",
       "98    Carolyn    Mackay    Block 382 Middle Road #42-4807 Singapore 382809   \n",
       "99       Ruth     James  Block 907 Kaki Bukit Place #75-5920 Singapore ...   \n",
       "\n",
       "    MonthlyIncome AmountInStocks AmountInBonds HasRelationshipManager  \n",
       "0            5093           High           Low                    Yes  \n",
       "1            6918           High           Low                    Yes  \n",
       "3            8961           High           Low                     No  \n",
       "4            7294           High           Low                    Yes  \n",
       "5            6967           High           Low                    Yes  \n",
       "..            ...            ...           ...                    ...  \n",
       "95           8079           High           Low                     No  \n",
       "96           7687           High           Low                    Yes  \n",
       "97           2125           High           Low                     No  \n",
       "98           9806           High           Low                    Yes  \n",
       "99           5492           High           Low                    Yes  \n",
       "\n",
       "[90 rows x 7 columns]"
      ]
     },
     "execution_count": 7,
     "metadata": {},
     "output_type": "execute_result"
    }
   ],
   "source": [
    "df3"
   ]
  }
 ],
 "metadata": {
  "kernelspec": {
   "display_name": "base",
   "language": "python",
   "name": "python3"
  },
  "language_info": {
   "codemirror_mode": {
    "name": "ipython",
    "version": 3
   },
   "file_extension": ".py",
   "mimetype": "text/x-python",
   "name": "python",
   "nbconvert_exporter": "python",
   "pygments_lexer": "ipython3",
   "version": "3.8.8 (default, Apr 13 2021, 12:59:45) \n[Clang 10.0.0 ]"
  },
  "orig_nbformat": 4,
  "vscode": {
   "interpreter": {
    "hash": "ddeae1e48db857e1ad100fa6205ea99031261145eae19329223a66308fe22402"
   }
  }
 },
 "nbformat": 4,
 "nbformat_minor": 2
}
