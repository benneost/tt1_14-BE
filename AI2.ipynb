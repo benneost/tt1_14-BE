{
 "cells": [
  {
   "attachments": {},
   "cell_type": "markdown",
   "metadata": {},
   "source": [
    "## A2 log regression"
   ]
  },
  {
   "cell_type": "code",
   "execution_count": 3,
   "metadata": {},
   "outputs": [
    {
     "name": "stdout",
     "output_type": "stream",
     "text": [
      "     Score 1  Score 2  CreditWorthy\n",
      "0         29       93             1\n",
      "1         75       52             1\n",
      "2         58       74             1\n",
      "3         15       57             0\n",
      "4         42       91             1\n",
      "..       ...      ...           ...\n",
      "195       56       33             0\n",
      "196       22       60             0\n",
      "197       41       76             1\n",
      "198       18       59             0\n",
      "199       36       24             0\n",
      "\n",
      "[200 rows x 3 columns]\n"
     ]
    }
   ],
   "source": [
    "import pandas as pd\n",
    "data = pd.read_csv('ClientScore (Training Data).csv')\n",
    "target = pd.read_csv('ClientScore (Testing Data).csv')\n"
   ]
  },
  {
   "cell_type": "code",
   "execution_count": null,
   "metadata": {},
   "outputs": [],
   "source": [
    "print(target['CreditWorthy'])"
   ]
  },
  {
   "cell_type": "code",
   "execution_count": 40,
   "metadata": {},
   "outputs": [
    {
     "name": "stdout",
     "output_type": "stream",
     "text": [
      "accuracy:  0.9\n",
      "r2 score:  0.5659722222222221\n",
      "RMSE:       0.31622776601683794\n",
      "MAE:       0.1\n"
     ]
    }
   ],
   "source": [
    "#log regression\n",
    "from sklearn import svm, linear_model\n",
    "from sklearn.model_selection import train_test_split\n",
    "from sklearn.linear_model import LogisticRegression\n",
    "import sklearn.metrics as  metrics\n",
    "\n",
    "lr = linear_model.LogisticRegression(max_iter=5000)\n",
    "\n",
    "cols = ['Score 1','Score 2']\n",
    "\n",
    "#given the training and testing sets, we will split \n",
    "y_train =  data['CreditWorthy']\n",
    "X_train =  data[cols]\n",
    "y_test = target['CreditWorthy']\n",
    "X_test = target[cols] \n",
    "\n",
    "logisticRegr = LogisticRegression()\n",
    "y_pred=logisticRegr.fit(X_train, y_train).predict(X_test)\n",
    "y_pred.reshape(1,-1)\n",
    "    \n",
    "print('accuracy: ',metrics.accuracy_score(y_pred,y_test))\n",
    "print('r2 score: ',metrics.r2_score(y_test,y_pred))\n",
    "print('RMSE:      ',metrics.mean_squared_error(y_test,y_pred,squared=False))\n",
    "print('MAE:      ',metrics.mean_absolute_error(y_test,y_pred))\n"
   ]
  }
 ],
 "metadata": {
  "kernelspec": {
   "display_name": "base",
   "language": "python",
   "name": "python3"
  },
  "language_info": {
   "codemirror_mode": {
    "name": "ipython",
    "version": 3
   },
   "file_extension": ".py",
   "mimetype": "text/x-python",
   "name": "python",
   "nbconvert_exporter": "python",
   "pygments_lexer": "ipython3",
   "version": "3.8.8 (default, Apr 13 2021, 12:59:45) \n[Clang 10.0.0 ]"
  },
  "orig_nbformat": 4,
  "vscode": {
   "interpreter": {
    "hash": "ddeae1e48db857e1ad100fa6205ea99031261145eae19329223a66308fe22402"
   }
  }
 },
 "nbformat": 4,
 "nbformat_minor": 2
}
